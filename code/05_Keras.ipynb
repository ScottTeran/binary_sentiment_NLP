{
 "cells": [
  {
   "cell_type": "code",
   "execution_count": 1,
   "id": "cced45b6-60d2-42ac-a660-6e0f5586e0b0",
   "metadata": {},
   "outputs": [],
   "source": [
    "# imports\n",
    "import pandas as pd\n",
    "import tensorflow as tf\n",
    "\n",
    "\n",
    "pd.options.display.max_colwidth = 200\n",
    "# love that this looks like the same dataset for https://keras.io/examples/nlp/text_classification_from_scratch/"
   ]
  },
  {
   "cell_type": "code",
   "execution_count": 2,
   "id": "1f0d2613-248f-4891-9e4b-064bb006ac89",
   "metadata": {},
   "outputs": [],
   "source": [
    "df_train = pd.read_csv('../data/train_ready.csv')\n",
    "df_test = pd.read_csv('../data/test_ready.csv')"
   ]
  },
  {
   "cell_type": "code",
   "execution_count": 11,
   "id": "6196dbfa-0e94-4cfc-8f6f-dd73eb5c8d5c",
   "metadata": {},
   "outputs": [],
   "source": [
    "# df_train.shape, df_test.shape"
   ]
  },
  {
   "cell_type": "code",
   "execution_count": 8,
   "id": "81d569b2-50e7-4c98-a735-bfdca1c07f24",
   "metadata": {},
   "outputs": [],
   "source": [
    "df_train.drop('Unnamed: 0', axis=1, inplace=True)\n",
    "df_test.drop('Unnamed: 0', axis=1, inplace=True)"
   ]
  },
  {
   "cell_type": "code",
   "execution_count": 10,
   "id": "e58aa788-e4bd-42c6-8674-f4d072a36d9c",
   "metadata": {},
   "outputs": [],
   "source": [
    "# df_train.info(), df_test.info()"
   ]
  },
  {
   "cell_type": "markdown",
   "id": "613059de-d780-487f-9642-5cc7edfca768",
   "metadata": {},
   "source": [
    "---"
   ]
  }
 ],
 "metadata": {
  "kernelspec": {
   "display_name": "Python 3",
   "language": "python",
   "name": "python3"
  },
  "language_info": {
   "codemirror_mode": {
    "name": "ipython",
    "version": 3
   },
   "file_extension": ".py",
   "mimetype": "text/x-python",
   "name": "python",
   "nbconvert_exporter": "python",
   "pygments_lexer": "ipython3",
   "version": "3.8.8"
  }
 },
 "nbformat": 4,
 "nbformat_minor": 5
}
