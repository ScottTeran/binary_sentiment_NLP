{
 "cells": [
  {
   "cell_type": "code",
   "execution_count": 2,
   "id": "cced45b6-60d2-42ac-a660-6e0f5586e0b0",
   "metadata": {},
   "outputs": [],
   "source": [
    "# imports\n",
    "import pandas as pd\n",
    "import matplotlib.pyplot as plt\n",
    "\n",
    "from sklearn.model_selection import train_test_split\n",
    "from sklearn.pipeline import Pipeline\n",
    "from sklearn.naive_bayes import MultinomialNB\n",
    "\n",
    "from sklearn.feature_extraction.text import CountVectorizer\n",
    "\n",
    "pd.options.display.max_colwidth = 200"
   ]
  },
  {
   "cell_type": "code",
   "execution_count": 3,
   "id": "1f0d2613-248f-4891-9e4b-064bb006ac89",
   "metadata": {},
   "outputs": [],
   "source": [
    "df_train = pd.read_csv('../data/train_ready.csv')\n",
    "df_test = pd.read_csv('../data/test_ready.csv')"
   ]
  },
  {
   "cell_type": "code",
   "execution_count": 4,
   "id": "6196dbfa-0e94-4cfc-8f6f-dd73eb5c8d5c",
   "metadata": {},
   "outputs": [],
   "source": [
    "# df_train.shape, df_test.shape"
   ]
  },
  {
   "cell_type": "code",
   "execution_count": 5,
   "id": "81d569b2-50e7-4c98-a735-bfdca1c07f24",
   "metadata": {},
   "outputs": [],
   "source": [
    "df_train.drop('Unnamed: 0', axis=1, inplace=True)\n",
    "df_test.drop('Unnamed: 0', axis=1, inplace=True)"
   ]
  },
  {
   "cell_type": "code",
   "execution_count": 6,
   "id": "e58aa788-e4bd-42c6-8674-f4d072a36d9c",
   "metadata": {},
   "outputs": [],
   "source": [
    "# df_train.info(), df_test.info()"
   ]
  },
  {
   "cell_type": "markdown",
   "id": "613059de-d780-487f-9642-5cc7edfca768",
   "metadata": {},
   "source": [
    "---"
   ]
  },
  {
   "cell_type": "markdown",
   "id": "ead00271-999a-49af-972e-c6d1aa9b88b6",
   "metadata": {},
   "source": [
    "### train/test + pre-process + MNB model"
   ]
  },
  {
   "cell_type": "code",
   "execution_count": 7,
   "id": "d9a72ee7-98eb-4042-8f9c-3e1ee944e1db",
   "metadata": {},
   "outputs": [],
   "source": [
    "X =  df_train['Reviews']\n",
    "y = df_train['Sentiment']"
   ]
  },
  {
   "cell_type": "code",
   "execution_count": 8,
   "id": "ec2384eb-43e1-48f5-90fb-e76e33e33f74",
   "metadata": {},
   "outputs": [],
   "source": [
    "# split it, test it, fax, rename it ;)\n",
    "X_train, X_test, y_train, y_test = train_test_split(X, y, stratify=y, random_state=42)"
   ]
  },
  {
   "cell_type": "code",
   "execution_count": 9,
   "id": "84a09975-7be4-47a2-880a-f5cd5dc93e46",
   "metadata": {},
   "outputs": [],
   "source": [
    "pipe = Pipeline([\n",
    "    ('cvec', CountVectorizer()),\n",
    "    ('nb', MultinomialNB())\n",
    "])"
   ]
  },
  {
   "cell_type": "code",
   "execution_count": 10,
   "id": "e98ff421-fb02-41a3-b26e-214379f98829",
   "metadata": {},
   "outputs": [
    {
     "data": {
      "text/plain": [
       "Pipeline(steps=[('cvec', CountVectorizer()), ('nb', MultinomialNB())])"
      ]
     },
     "execution_count": 10,
     "metadata": {},
     "output_type": "execute_result"
    }
   ],
   "source": [
    "pipe.fit(X_train, y_train)"
   ]
  },
  {
   "cell_type": "code",
   "execution_count": 11,
   "id": "c37defbe-bd8c-4622-9ef7-02a7edacb746",
   "metadata": {},
   "outputs": [
    {
     "data": {
      "text/plain": [
       "0.9058666666666667"
      ]
     },
     "execution_count": 11,
     "metadata": {},
     "output_type": "execute_result"
    }
   ],
   "source": [
    "pipe.score(X_train, y_train)"
   ]
  },
  {
   "cell_type": "code",
   "execution_count": 12,
   "id": "c6f6b7a8-4c75-4c95-871e-a1d346b83b64",
   "metadata": {},
   "outputs": [
    {
     "data": {
      "text/plain": [
       "Pipeline(steps=[('cvec', CountVectorizer()), ('nb', MultinomialNB())])"
      ]
     },
     "execution_count": 12,
     "metadata": {},
     "output_type": "execute_result"
    }
   ],
   "source": [
    "pipe.fit(X_test, y_test)"
   ]
  },
  {
   "cell_type": "code",
   "execution_count": 13,
   "id": "6cb25bac-1dcf-4e09-abf6-03faa9db78b7",
   "metadata": {},
   "outputs": [
    {
     "data": {
      "text/plain": [
       "0.93232"
      ]
     },
     "execution_count": 13,
     "metadata": {},
     "output_type": "execute_result"
    }
   ],
   "source": [
    "pipe.score(X_test, y_test)"
   ]
  },
  {
   "cell_type": "markdown",
   "id": "a50ea3c0-af28-4e8a-a0f2-85b743428736",
   "metadata": {},
   "source": [
    "***now with test data***"
   ]
  },
  {
   "cell_type": "code",
   "execution_count": 14,
   "id": "3bf5ff4b-866c-4669-aeee-931128934d60",
   "metadata": {},
   "outputs": [],
   "source": [
    "X_t = df_test['Reviews']\n",
    "y_t = df_test['Sentiment']"
   ]
  },
  {
   "cell_type": "code",
   "execution_count": 15,
   "id": "7aa3b487-8352-486e-b711-adc7cdd640f7",
   "metadata": {},
   "outputs": [],
   "source": [
    "pipe = Pipeline([\n",
    "    ('cvec', CountVectorizer()),\n",
    "    ('nb', MultinomialNB())\n",
    "])"
   ]
  },
  {
   "cell_type": "code",
   "execution_count": 16,
   "id": "fcb82544-c3fe-4027-8c8a-ed750adee9c8",
   "metadata": {},
   "outputs": [
    {
     "data": {
      "text/plain": [
       "Pipeline(steps=[('cvec', CountVectorizer()), ('nb', MultinomialNB())])"
      ]
     },
     "execution_count": 16,
     "metadata": {},
     "output_type": "execute_result"
    }
   ],
   "source": [
    "pipe.fit(X_t, y_t)"
   ]
  },
  {
   "cell_type": "code",
   "execution_count": 17,
   "id": "f3ca0069-723d-4026-8569-20ff612c781a",
   "metadata": {},
   "outputs": [
    {
     "data": {
      "text/plain": [
       "0.89812"
      ]
     },
     "execution_count": 17,
     "metadata": {},
     "output_type": "execute_result"
    }
   ],
   "source": [
    "pipe.score(X_t, y_t)"
   ]
  }
 ],
 "metadata": {
  "kernelspec": {
   "display_name": "Python 3",
   "language": "python",
   "name": "python3"
  },
  "language_info": {
   "codemirror_mode": {
    "name": "ipython",
    "version": 3
   },
   "file_extension": ".py",
   "mimetype": "text/x-python",
   "name": "python",
   "nbconvert_exporter": "python",
   "pygments_lexer": "ipython3",
   "version": "3.8.8"
  }
 },
 "nbformat": 4,
 "nbformat_minor": 5
}
