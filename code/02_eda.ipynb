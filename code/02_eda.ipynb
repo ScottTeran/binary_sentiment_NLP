{
 "cells": [
  {
   "cell_type": "code",
   "execution_count": 1,
   "id": "be8acd1f-4cb1-428b-a6c1-ca245c696c40",
   "metadata": {},
   "outputs": [],
   "source": [
    "# imports\n",
    "import pandas as pd\n",
    "\n",
    "pd.options.display.max_colwidth = 200"
   ]
  },
  {
   "cell_type": "markdown",
   "id": "6e1310e5-b3ef-4f04-b634-44306712590c",
   "metadata": {},
   "source": [
    "---"
   ]
  },
  {
   "cell_type": "markdown",
   "id": "c66c66d3-8176-467d-b5f9-5ee9fce6b37c",
   "metadata": {},
   "source": [
    "## training data"
   ]
  },
  {
   "cell_type": "code",
   "execution_count": 2,
   "id": "d01408a7-224e-4389-a64f-75099f29b52f",
   "metadata": {},
   "outputs": [],
   "source": [
    "df_train = pd.read_excel('../data/train.xlsx')"
   ]
  },
  {
   "cell_type": "code",
   "execution_count": 3,
   "id": "7e444c59-85b4-4213-acd2-355bc9bc136b",
   "metadata": {},
   "outputs": [
    {
     "data": {
      "text/html": [
       "<div>\n",
       "<style scoped>\n",
       "    .dataframe tbody tr th:only-of-type {\n",
       "        vertical-align: middle;\n",
       "    }\n",
       "\n",
       "    .dataframe tbody tr th {\n",
       "        vertical-align: top;\n",
       "    }\n",
       "\n",
       "    .dataframe thead th {\n",
       "        text-align: right;\n",
       "    }\n",
       "</style>\n",
       "<table border=\"1\" class=\"dataframe\">\n",
       "  <thead>\n",
       "    <tr style=\"text-align: right;\">\n",
       "      <th></th>\n",
       "      <th>Reviews</th>\n",
       "      <th>Sentiment</th>\n",
       "    </tr>\n",
       "  </thead>\n",
       "  <tbody>\n",
       "    <tr>\n",
       "      <th>0</th>\n",
       "      <td>When I first tuned in on this morning news, I thought, \"wow, finally, some entertainment.\" It was slightly amusing for a week or so... But we have to face it, these news reporters (if one can even...</td>\n",
       "      <td>neg</td>\n",
       "    </tr>\n",
       "    <tr>\n",
       "      <th>1</th>\n",
       "      <td>Mere thoughts of \"Going Overboard\" (aka \"Babes Ahoy\") make me want to weep. Throwing yourself out a window would be better than watching this movie. It's not even a supposed \"so bad it's good\" mov...</td>\n",
       "      <td>neg</td>\n",
       "    </tr>\n",
       "    <tr>\n",
       "      <th>2</th>\n",
       "      <td>Why does this movie fall WELL below standards? Ultimately, the answer lies in the poor, humourless script. A slim/average looking Travolta (looking rather dapper in black I must say, even with a H...</td>\n",
       "      <td>neg</td>\n",
       "    </tr>\n",
       "    <tr>\n",
       "      <th>3</th>\n",
       "      <td>Wow and I thought that any Steven Segal movie was bad. Every time I thought that the movie couldn't get worse it proved me wrong. The story was good but the actors couldn't carry it off. Also, the...</td>\n",
       "      <td>neg</td>\n",
       "    </tr>\n",
       "    <tr>\n",
       "      <th>4</th>\n",
       "      <td>The story is seen before, but that does'n matter if you can figure out to make a proper storyboard. It is clear that the director haven't spent his work on the storyboard. Alongside this, the came...</td>\n",
       "      <td>neg</td>\n",
       "    </tr>\n",
       "  </tbody>\n",
       "</table>\n",
       "</div>"
      ],
      "text/plain": [
       "                                                                                                                                                                                                   Reviews  \\\n",
       "0  When I first tuned in on this morning news, I thought, \"wow, finally, some entertainment.\" It was slightly amusing for a week or so... But we have to face it, these news reporters (if one can even...   \n",
       "1  Mere thoughts of \"Going Overboard\" (aka \"Babes Ahoy\") make me want to weep. Throwing yourself out a window would be better than watching this movie. It's not even a supposed \"so bad it's good\" mov...   \n",
       "2  Why does this movie fall WELL below standards? Ultimately, the answer lies in the poor, humourless script. A slim/average looking Travolta (looking rather dapper in black I must say, even with a H...   \n",
       "3  Wow and I thought that any Steven Segal movie was bad. Every time I thought that the movie couldn't get worse it proved me wrong. The story was good but the actors couldn't carry it off. Also, the...   \n",
       "4  The story is seen before, but that does'n matter if you can figure out to make a proper storyboard. It is clear that the director haven't spent his work on the storyboard. Alongside this, the came...   \n",
       "\n",
       "  Sentiment  \n",
       "0       neg  \n",
       "1       neg  \n",
       "2       neg  \n",
       "3       neg  \n",
       "4       neg  "
      ]
     },
     "execution_count": 3,
     "metadata": {},
     "output_type": "execute_result"
    }
   ],
   "source": [
    "df_train.head()"
   ]
  },
  {
   "cell_type": "code",
   "execution_count": 4,
   "id": "d116c25b-12f5-4f33-8712-07b2b1892bbc",
   "metadata": {},
   "outputs": [
    {
     "data": {
      "text/plain": [
       "count     25000\n",
       "unique        2\n",
       "top         pos\n",
       "freq      12500\n",
       "Name: Sentiment, dtype: object"
      ]
     },
     "execution_count": 4,
     "metadata": {},
     "output_type": "execute_result"
    }
   ],
   "source": [
    "df_train['Sentiment'].describe()"
   ]
  },
  {
   "cell_type": "code",
   "execution_count": 5,
   "id": "00af0af9-320d-4614-a84c-f2c08a413a87",
   "metadata": {},
   "outputs": [
    {
     "data": {
      "text/plain": [
       "array(['neg', 'pos'], dtype=object)"
      ]
     },
     "execution_count": 5,
     "metadata": {},
     "output_type": "execute_result"
    }
   ],
   "source": [
    "df_train['Sentiment'].unique()"
   ]
  },
  {
   "cell_type": "code",
   "execution_count": 7,
   "id": "4c25b555-f3df-481b-be1c-1be1617d7027",
   "metadata": {},
   "outputs": [],
   "source": [
    "df_train['Sentiment'] = df_train['Sentiment'].map({'neg': 0, 'pos': 1})"
   ]
  },
  {
   "cell_type": "code",
   "execution_count": 8,
   "id": "e09a964e-0e1d-4098-bd2d-a71366d7f12c",
   "metadata": {},
   "outputs": [
    {
     "data": {
      "text/plain": [
       "0    0.5\n",
       "1    0.5\n",
       "Name: Sentiment, dtype: float64"
      ]
     },
     "execution_count": 8,
     "metadata": {},
     "output_type": "execute_result"
    }
   ],
   "source": [
    "df_train['Sentiment'].value_counts(normalize=True)"
   ]
  },
  {
   "cell_type": "code",
   "execution_count": 9,
   "id": "6e1842e1-6745-42ad-af0b-16df8e8dc8d1",
   "metadata": {},
   "outputs": [
    {
     "data": {
      "text/plain": [
       "(25000, 2)"
      ]
     },
     "execution_count": 9,
     "metadata": {},
     "output_type": "execute_result"
    }
   ],
   "source": [
    "df_train.shape"
   ]
  },
  {
   "cell_type": "markdown",
   "id": "711519b2-c3d9-42f0-9f6c-f3b36cde5365",
   "metadata": {},
   "source": [
    "---"
   ]
  },
  {
   "cell_type": "markdown",
   "id": "6815c12b-7fe3-4731-8c38-f9587ad8ccab",
   "metadata": {},
   "source": [
    "## testing data"
   ]
  },
  {
   "cell_type": "code",
   "execution_count": 11,
   "id": "4852bb17-dd05-4eb2-bc26-4bcd65995a72",
   "metadata": {},
   "outputs": [],
   "source": [
    "df_test = pd.read_excel('../data/test.xlsx')"
   ]
  },
  {
   "cell_type": "code",
   "execution_count": 12,
   "id": "478bf26c-4f43-4aa2-8138-3a8ffc7c8b2b",
   "metadata": {},
   "outputs": [
    {
     "data": {
      "text/html": [
       "<div>\n",
       "<style scoped>\n",
       "    .dataframe tbody tr th:only-of-type {\n",
       "        vertical-align: middle;\n",
       "    }\n",
       "\n",
       "    .dataframe tbody tr th {\n",
       "        vertical-align: top;\n",
       "    }\n",
       "\n",
       "    .dataframe thead th {\n",
       "        text-align: right;\n",
       "    }\n",
       "</style>\n",
       "<table border=\"1\" class=\"dataframe\">\n",
       "  <thead>\n",
       "    <tr style=\"text-align: right;\">\n",
       "      <th></th>\n",
       "      <th>Reviews</th>\n",
       "      <th>Sentiment</th>\n",
       "    </tr>\n",
       "  </thead>\n",
       "  <tbody>\n",
       "    <tr>\n",
       "      <th>0</th>\n",
       "      <td>Who would have thought that a movie about a man who drives a couple hundreds of miles on his lawn mower to see his brother, could possibly be good cinema? I certainly didn't. I thought I knew what...</td>\n",
       "      <td>pos</td>\n",
       "    </tr>\n",
       "    <tr>\n",
       "      <th>1</th>\n",
       "      <td>After realizing what is going on around us ... in the news .. in our homes .. the whole new world .. I remembered this show and how obsessed I was watching it every week (in my town) ..&lt;br /&gt;&lt;br /...</td>\n",
       "      <td>pos</td>\n",
       "    </tr>\n",
       "    <tr>\n",
       "      <th>2</th>\n",
       "      <td>I grew up watching the original Disney Cinderella, and have always loved it so much that the tape is a little worn.&lt;br /&gt;&lt;br /&gt;Accordingly, I was excited to see that Cinderella 2 was coming on TV ...</td>\n",
       "      <td>neg</td>\n",
       "    </tr>\n",
       "    <tr>\n",
       "      <th>3</th>\n",
       "      <td>David Mamet wrote the screenplay and made his directorial debut with `House of Games,' a character study fraught with psychological overtones, in which a psychiatrist is lured into the dark world ...</td>\n",
       "      <td>pos</td>\n",
       "    </tr>\n",
       "    <tr>\n",
       "      <th>4</th>\n",
       "      <td>Admittedly, I didn't have high expectations of \"Corky Romano.\" But then again, who did? However, I felt it deserved the benefit of the doubt. I had no high hopes of \"Joe Dirt\" either--another rece...</td>\n",
       "      <td>neg</td>\n",
       "    </tr>\n",
       "  </tbody>\n",
       "</table>\n",
       "</div>"
      ],
      "text/plain": [
       "                                                                                                                                                                                                   Reviews  \\\n",
       "0  Who would have thought that a movie about a man who drives a couple hundreds of miles on his lawn mower to see his brother, could possibly be good cinema? I certainly didn't. I thought I knew what...   \n",
       "1  After realizing what is going on around us ... in the news .. in our homes .. the whole new world .. I remembered this show and how obsessed I was watching it every week (in my town) ..<br /><br /...   \n",
       "2  I grew up watching the original Disney Cinderella, and have always loved it so much that the tape is a little worn.<br /><br />Accordingly, I was excited to see that Cinderella 2 was coming on TV ...   \n",
       "3  David Mamet wrote the screenplay and made his directorial debut with `House of Games,' a character study fraught with psychological overtones, in which a psychiatrist is lured into the dark world ...   \n",
       "4  Admittedly, I didn't have high expectations of \"Corky Romano.\" But then again, who did? However, I felt it deserved the benefit of the doubt. I had no high hopes of \"Joe Dirt\" either--another rece...   \n",
       "\n",
       "  Sentiment  \n",
       "0       pos  \n",
       "1       pos  \n",
       "2       neg  \n",
       "3       pos  \n",
       "4       neg  "
      ]
     },
     "execution_count": 12,
     "metadata": {},
     "output_type": "execute_result"
    }
   ],
   "source": [
    "df_test.head()"
   ]
  },
  {
   "cell_type": "code",
   "execution_count": 14,
   "id": "949b2c08-4d63-4061-a4ba-adf346f9894d",
   "metadata": {},
   "outputs": [
    {
     "data": {
      "text/plain": [
       "count     25000\n",
       "unique        2\n",
       "top         pos\n",
       "freq      12500\n",
       "Name: Sentiment, dtype: object"
      ]
     },
     "execution_count": 14,
     "metadata": {},
     "output_type": "execute_result"
    }
   ],
   "source": [
    "df_test['Sentiment'].describe()"
   ]
  },
  {
   "cell_type": "code",
   "execution_count": 15,
   "id": "13eb144a-9769-443e-b667-6a74af5172c0",
   "metadata": {},
   "outputs": [
    {
     "data": {
      "text/plain": [
       "array(['pos', 'neg'], dtype=object)"
      ]
     },
     "execution_count": 15,
     "metadata": {},
     "output_type": "execute_result"
    }
   ],
   "source": [
    "df_test['Sentiment'].unique()"
   ]
  },
  {
   "cell_type": "code",
   "execution_count": 16,
   "id": "81296c51-21d7-4fbe-97cf-b16d2384707e",
   "metadata": {},
   "outputs": [],
   "source": [
    "df_test['Sentiment'] = df_test['Sentiment'].map({'neg': 0, 'pos': 1})"
   ]
  },
  {
   "cell_type": "code",
   "execution_count": 18,
   "id": "c9142e2d-b8a6-401c-826b-4b333914ccb9",
   "metadata": {},
   "outputs": [
    {
     "data": {
      "text/plain": [
       "0    0.5\n",
       "1    0.5\n",
       "Name: Sentiment, dtype: float64"
      ]
     },
     "execution_count": 18,
     "metadata": {},
     "output_type": "execute_result"
    }
   ],
   "source": [
    "df_test['Sentiment'].value_counts(normalize=True)"
   ]
  },
  {
   "cell_type": "code",
   "execution_count": 19,
   "id": "b8cd1163-332a-40af-a857-ff6827de1c46",
   "metadata": {},
   "outputs": [
    {
     "data": {
      "text/plain": [
       "(25000, 2)"
      ]
     },
     "execution_count": 19,
     "metadata": {},
     "output_type": "execute_result"
    }
   ],
   "source": [
    "df_test.shape"
   ]
  },
  {
   "cell_type": "markdown",
   "id": "4ed9a25e-8905-4a2a-a897-d32061bf185a",
   "metadata": {},
   "source": [
    "---"
   ]
  },
  {
   "cell_type": "markdown",
   "id": "e5652d5d-8493-4ab6-b707-d96279e1a44a",
   "metadata": {},
   "source": [
    "### export train and test data"
   ]
  },
  {
   "cell_type": "code",
   "execution_count": 15,
   "id": "fe489fe2-112f-40cf-abeb-a5dc0a4bd1d1",
   "metadata": {},
   "outputs": [],
   "source": [
    "# export train ready data\n",
    "# df_train.to_csv('../data/train_ready.csv')"
   ]
  },
  {
   "cell_type": "code",
   "execution_count": 20,
   "id": "f3a44f2a-06ea-44ec-9df7-47a328fde046",
   "metadata": {},
   "outputs": [],
   "source": [
    "# export test ready data\n",
    "# df_test.to_csv('../data/test_ready.csv')"
   ]
  }
 ],
 "metadata": {
  "kernelspec": {
   "display_name": "Python 3",
   "language": "python",
   "name": "python3"
  },
  "language_info": {
   "codemirror_mode": {
    "name": "ipython",
    "version": 3
   },
   "file_extension": ".py",
   "mimetype": "text/x-python",
   "name": "python",
   "nbconvert_exporter": "python",
   "pygments_lexer": "ipython3",
   "version": "3.8.8"
  }
 },
 "nbformat": 4,
 "nbformat_minor": 5
}
