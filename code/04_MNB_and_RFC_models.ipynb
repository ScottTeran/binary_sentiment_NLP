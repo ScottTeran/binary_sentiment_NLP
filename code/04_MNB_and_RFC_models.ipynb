{
 "cells": [
  {
   "cell_type": "code",
   "execution_count": 21,
   "id": "cced45b6-60d2-42ac-a660-6e0f5586e0b0",
   "metadata": {},
   "outputs": [],
   "source": [
    "# imports\n",
    "import pandas as pd\n",
    "import matplotlib.pyplot as plt\n",
    "\n",
    "from sklearn.model_selection import train_test_split, GridSearchCV\n",
    "from sklearn.pipeline import Pipeline\n",
    "from sklearn.naive_bayes import MultinomialNB\n",
    "from sklearn.ensemble import RandomForestClassifier\n",
    "from sklearn.metrics import confusion_matrix, plot_confusion_matrix\n",
    "\n",
    "from sklearn.feature_extraction.text import CountVectorizer\n",
    "\n",
    "pd.options.display.max_colwidth = 200"
   ]
  },
  {
   "cell_type": "code",
   "execution_count": 2,
   "id": "1f0d2613-248f-4891-9e4b-064bb006ac89",
   "metadata": {},
   "outputs": [],
   "source": [
    "df_train = pd.read_csv('../data/train_ready.csv')\n",
    "df_test = pd.read_csv('../data/test_ready.csv')"
   ]
  },
  {
   "cell_type": "code",
   "execution_count": 3,
   "id": "81d569b2-50e7-4c98-a735-bfdca1c07f24",
   "metadata": {},
   "outputs": [],
   "source": [
    "df_train.drop('Unnamed: 0', axis=1, inplace=True)\n",
    "df_test.drop('Unnamed: 0', axis=1, inplace=True)"
   ]
  },
  {
   "cell_type": "code",
   "execution_count": 4,
   "id": "e58aa788-e4bd-42c6-8674-f4d072a36d9c",
   "metadata": {},
   "outputs": [],
   "source": [
    "# df_train.info(), df_test.info()"
   ]
  },
  {
   "cell_type": "markdown",
   "id": "613059de-d780-487f-9642-5cc7edfca768",
   "metadata": {},
   "source": [
    "---"
   ]
  },
  {
   "cell_type": "markdown",
   "id": "ead00271-999a-49af-972e-c6d1aa9b88b6",
   "metadata": {},
   "source": [
    "### MNB model"
   ]
  },
  {
   "cell_type": "code",
   "execution_count": 5,
   "id": "d9a72ee7-98eb-4042-8f9c-3e1ee944e1db",
   "metadata": {},
   "outputs": [],
   "source": [
    "X =  df_train['Reviews']\n",
    "y = df_train['Sentiment']"
   ]
  },
  {
   "cell_type": "code",
   "execution_count": 6,
   "id": "ec2384eb-43e1-48f5-90fb-e76e33e33f74",
   "metadata": {},
   "outputs": [],
   "source": [
    "# split it, test it, fax, rename it ;)\n",
    "X_train, X_test, y_train, y_test = train_test_split(X, y, stratify=y, random_state=42)"
   ]
  },
  {
   "cell_type": "code",
   "execution_count": 7,
   "id": "84a09975-7be4-47a2-880a-f5cd5dc93e46",
   "metadata": {},
   "outputs": [],
   "source": [
    "# MNB for the first one\n",
    "pipe = Pipeline([\n",
    "    ('cvec', CountVectorizer(stop_words='english')),\n",
    "    ('nb', MultinomialNB())\n",
    "])"
   ]
  },
  {
   "cell_type": "code",
   "execution_count": 8,
   "id": "a783e099-20d2-427e-a548-ade7c94710e8",
   "metadata": {},
   "outputs": [],
   "source": [
    "# put up some params\n",
    "params = {\n",
    "    'cvec__max_features': [60_000], # tested 10,000 to 100,000\n",
    "    'cvec__min_df': [2], # tested 2 to 3\n",
    "    'cvec__max_df': [.9], # tested but... \n",
    "    'cvec__ngram_range':[(1,4)] # tested (1,1) to (1,4)\n",
    "}"
   ]
  },
  {
   "cell_type": "code",
   "execution_count": 9,
   "id": "378575b0-5f98-4489-b6e4-b9c7aeeeec94",
   "metadata": {},
   "outputs": [],
   "source": [
    "# instantiate gridsearch\n",
    "gs = GridSearchCV(pipe, param_grid=params, cv=3)"
   ]
  },
  {
   "cell_type": "code",
   "execution_count": 10,
   "id": "d41c51a1-dc3e-4929-98f1-a038d898dd7d",
   "metadata": {},
   "outputs": [
    {
     "data": {
      "text/plain": [
       "GridSearchCV(cv=3,\n",
       "             estimator=Pipeline(steps=[('cvec',\n",
       "                                        CountVectorizer(stop_words='english')),\n",
       "                                       ('nb', MultinomialNB())]),\n",
       "             param_grid={'cvec__max_df': [0.9], 'cvec__max_features': [60000],\n",
       "                         'cvec__min_df': [2], 'cvec__ngram_range': [(1, 4)]})"
      ]
     },
     "execution_count": 10,
     "metadata": {},
     "output_type": "execute_result"
    }
   ],
   "source": [
    "# fit gridsearch\n",
    "gs.fit(X_train, y_train)"
   ]
  },
  {
   "cell_type": "code",
   "execution_count": 11,
   "id": "9a9d014f-8e17-4a8f-b965-a94ca88369a3",
   "metadata": {},
   "outputs": [
    {
     "data": {
      "text/plain": [
       "{'cvec__max_df': 0.9,\n",
       " 'cvec__max_features': 60000,\n",
       " 'cvec__min_df': 2,\n",
       " 'cvec__ngram_range': (1, 4)}"
      ]
     },
     "execution_count": 11,
     "metadata": {},
     "output_type": "execute_result"
    }
   ],
   "source": [
    "gs.best_params_"
   ]
  },
  {
   "cell_type": "code",
   "execution_count": 12,
   "id": "c60d6fe8-832f-4679-9f4a-32ee244cb5fa",
   "metadata": {},
   "outputs": [
    {
     "data": {
      "text/plain": [
       "0.9266133333333333"
      ]
     },
     "execution_count": 12,
     "metadata": {},
     "output_type": "execute_result"
    }
   ],
   "source": [
    "gs.score(X_train, y_train)"
   ]
  },
  {
   "cell_type": "code",
   "execution_count": 13,
   "id": "947b8679-0dd8-4cfd-a965-385eed4464ba",
   "metadata": {},
   "outputs": [
    {
     "data": {
      "text/plain": [
       "0.87136"
      ]
     },
     "execution_count": 13,
     "metadata": {},
     "output_type": "execute_result"
    }
   ],
   "source": [
    "gs.score(X_test, y_test)"
   ]
  },
  {
   "cell_type": "code",
   "execution_count": 14,
   "id": "410f1e23-d424-4364-aa1c-e7b6650e584c",
   "metadata": {},
   "outputs": [],
   "source": [
    "# Note: score is .869 after hypertuning with stop_words"
   ]
  },
  {
   "cell_type": "code",
   "execution_count": 15,
   "id": "a4593bc9-08fc-48bc-9ff8-c9aa0823b383",
   "metadata": {},
   "outputs": [],
   "source": [
    "X_t = df_test['Reviews']\n",
    "y_t = df_test['Sentiment']"
   ]
  },
  {
   "cell_type": "code",
   "execution_count": 16,
   "id": "546059a6-26f1-4ae4-bb0f-2aec809479df",
   "metadata": {},
   "outputs": [
    {
     "data": {
      "text/plain": [
       "GridSearchCV(cv=3,\n",
       "             estimator=Pipeline(steps=[('cvec',\n",
       "                                        CountVectorizer(stop_words='english')),\n",
       "                                       ('nb', MultinomialNB())]),\n",
       "             param_grid={'cvec__max_df': [0.9], 'cvec__max_features': [60000],\n",
       "                         'cvec__min_df': [2], 'cvec__ngram_range': [(1, 4)]})"
      ]
     },
     "execution_count": 16,
     "metadata": {},
     "output_type": "execute_result"
    }
   ],
   "source": [
    "gs.fit(X_t, y_t)"
   ]
  },
  {
   "cell_type": "code",
   "execution_count": 17,
   "id": "8bc16b41-3035-44bc-8117-d06340babae5",
   "metadata": {},
   "outputs": [
    {
     "data": {
      "text/plain": [
       "0.91724"
      ]
     },
     "execution_count": 17,
     "metadata": {},
     "output_type": "execute_result"
    }
   ],
   "source": [
    "gs.score(X_t, y_t)"
   ]
  },
  {
   "cell_type": "markdown",
   "id": "93ac6d8d-8c03-4c5b-937b-97068e1a11e6",
   "metadata": {},
   "source": [
    "### RFC model"
   ]
  },
  {
   "cell_type": "code",
   "execution_count": 47,
   "id": "9170b2bb-6093-44a1-9c12-1046242b275a",
   "metadata": {},
   "outputs": [],
   "source": [
    "pipe_rfc = Pipeline ([\n",
    "    ('cvec', CountVectorizer(stop_words='english')),\n",
    "    ('rfc', RandomForestClassifier(n_estimators=500))\n",
    "])"
   ]
  },
  {
   "cell_type": "code",
   "execution_count": 42,
   "id": "826bdfaa-aab2-4258-93c2-f15c02cd8ec3",
   "metadata": {},
   "outputs": [],
   "source": [
    "# # put up some params\n",
    "# params_rfc = {\n",
    "#     'rfc__n_estimators': [500] # started testing at 100\n",
    "# }"
   ]
  },
  {
   "cell_type": "code",
   "execution_count": 43,
   "id": "86e6aafc-2033-4be0-a00d-1296687d7463",
   "metadata": {},
   "outputs": [],
   "source": [
    "# gs_rfc = GridSearchCV(pipe_rfc, param_grid=params_rfc, cv=3)"
   ]
  },
  {
   "cell_type": "code",
   "execution_count": 44,
   "id": "c537ad98-963b-45c3-97a5-12532cf57032",
   "metadata": {},
   "outputs": [
    {
     "data": {
      "text/plain": [
       "GridSearchCV(cv=3,\n",
       "             estimator=Pipeline(steps=[('cvec',\n",
       "                                        CountVectorizer(stop_words='english')),\n",
       "                                       ('rfc', RandomForestClassifier())]),\n",
       "             param_grid={'rfc__n_estimators': [300, 400, 500]})"
      ]
     },
     "execution_count": 44,
     "metadata": {},
     "output_type": "execute_result"
    }
   ],
   "source": [
    "# gs_rfc.fit(X_train, y_train)"
   ]
  },
  {
   "cell_type": "code",
   "execution_count": 45,
   "id": "21b2760e-35e5-45a5-bdd7-fbf2d24007cc",
   "metadata": {},
   "outputs": [
    {
     "data": {
      "text/plain": [
       "1.0"
      ]
     },
     "execution_count": 45,
     "metadata": {},
     "output_type": "execute_result"
    }
   ],
   "source": [
    "# gs_rfc.score(X_train, y_train)"
   ]
  },
  {
   "cell_type": "code",
   "execution_count": 46,
   "id": "9fbcad15-184e-4008-8fe1-8d301d8d5eb4",
   "metadata": {},
   "outputs": [
    {
     "data": {
      "text/plain": [
       "{'rfc__n_estimators': 500}"
      ]
     },
     "execution_count": 46,
     "metadata": {},
     "output_type": "execute_result"
    }
   ],
   "source": [
    "# gs_rfc.best_params_"
   ]
  },
  {
   "cell_type": "markdown",
   "id": "28c7ad6e-a93d-4f11-9ba0-00c35081c7f3",
   "metadata": {},
   "source": [
    "**pipe testing - default RFC**"
   ]
  },
  {
   "cell_type": "code",
   "execution_count": 48,
   "id": "d616df44-fa1e-4b8c-b9c5-64fc0e2e60d0",
   "metadata": {},
   "outputs": [
    {
     "data": {
      "text/plain": [
       "Pipeline(steps=[('cvec', CountVectorizer(stop_words='english')),\n",
       "                ('rfc', RandomForestClassifier(n_estimators=500))])"
      ]
     },
     "execution_count": 48,
     "metadata": {},
     "output_type": "execute_result"
    }
   ],
   "source": [
    "pipe_rfc.fit(X_train, y_train)"
   ]
  },
  {
   "cell_type": "code",
   "execution_count": 49,
   "id": "853648f4-4de7-4110-ac21-15d1e7537e3f",
   "metadata": {},
   "outputs": [
    {
     "data": {
      "text/plain": [
       "1.0"
      ]
     },
     "execution_count": 49,
     "metadata": {},
     "output_type": "execute_result"
    }
   ],
   "source": [
    "pipe_rfc.score(X_train, y_train)"
   ]
  },
  {
   "cell_type": "code",
   "execution_count": 50,
   "id": "d0befab4-ca36-47fa-8b49-69a44f8ac507",
   "metadata": {},
   "outputs": [
    {
     "data": {
      "text/plain": [
       "0.86512"
      ]
     },
     "execution_count": 50,
     "metadata": {},
     "output_type": "execute_result"
    }
   ],
   "source": [
    "pipe_rfc.score(X_test, y_test)"
   ]
  },
  {
   "cell_type": "code",
   "execution_count": 51,
   "id": "482ff425-d6c3-4f07-b90a-53d54fb1f5d3",
   "metadata": {},
   "outputs": [
    {
     "data": {
      "text/plain": [
       "0.96628"
      ]
     },
     "execution_count": 51,
     "metadata": {},
     "output_type": "execute_result"
    }
   ],
   "source": [
    "pipe_rfc.score(X_t, y_t)"
   ]
  },
  {
   "cell_type": "markdown",
   "id": "9af8d928-c527-4e5e-b0f0-8060bba2defd",
   "metadata": {},
   "source": [
    "---"
   ]
  },
  {
   "cell_type": "markdown",
   "id": "0c3d73f9-829f-46f0-9d9f-d07c7cfff3a3",
   "metadata": {},
   "source": [
    "ready_test.csv log:\n",
    "- MNB test model = .898\n",
    "- MNB \"tuned\" = .917\n",
    "- RFC default n_estimators (100) = .962\n",
    "- RFC \"tuned\" = 0.966"
   ]
  }
 ],
 "metadata": {
  "kernelspec": {
   "display_name": "Python 3",
   "language": "python",
   "name": "python3"
  },
  "language_info": {
   "codemirror_mode": {
    "name": "ipython",
    "version": 3
   },
   "file_extension": ".py",
   "mimetype": "text/x-python",
   "name": "python",
   "nbconvert_exporter": "python",
   "pygments_lexer": "ipython3",
   "version": "3.8.8"
  }
 },
 "nbformat": 4,
 "nbformat_minor": 5
}
